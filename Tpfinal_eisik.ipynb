{
 "cells": [
  {
   "cell_type": "markdown",
   "id": "037a9048-6c8e-4ac6-8deb-f7703f2bc693",
   "metadata": {
    "panel-layout": {
     "height": 161.375,
     "visible": true,
     "width": 100
    }
   },
   "source": [
    "# Trabajo final Curso Programación para recién llegados a la Bioinformática\n",
    "## *Magali Eisik*\n",
    "## *Diciembre 2024*\n"
   ]
  },
  {
   "cell_type": "markdown",
   "id": "8275628c-c1f7-49f7-b24d-d180b49ecb7f",
   "metadata": {
    "panel-layout": {
     "height": 68.275,
     "visible": true,
     "width": 100
    }
   },
   "source": [
    "En este trabajo final se trabajo con el virus de la hepatitis B:\n",
    "https://www.ncbi.nlm.nih.gov/nuccore/NC_003977.2?report=genbank\n",
    "Para empezar a trabajar, debemos importar biophyton:"
   ]
  },
  {
   "cell_type": "code",
   "execution_count": 5,
   "id": "44ba1c76-7377-49b7-88c6-169559edd45f",
   "metadata": {},
   "outputs": [],
   "source": [
    "import Bio\n",
    "del Bio"
   ]
  },
  {
   "cell_type": "code",
   "execution_count": 68,
   "id": "1b400b50-9338-49df-bc36-9b9a0f847412",
   "metadata": {
    "panel-layout": {
     "height": 0,
     "visible": true,
     "width": 100
    }
   },
   "outputs": [
    {
     "name": "stdout",
     "output_type": "stream",
     "text": [
      "NC_003977.2\n"
     ]
    }
   ],
   "source": [
    "from Bio import SeqIO\n",
    "seq_hbv = SeqIO.read(\"seq_hbv.gb\", \"genbank\")\n",
    "print(seq_hbv.id)"
   ]
  },
  {
   "cell_type": "markdown",
   "id": "387685a6-eb46-4c0e-8f01-0223e32c634a",
   "metadata": {},
   "source": [
    "De esta manera obtuvimos el ID: NC_003977.2"
   ]
  },
  {
   "cell_type": "code",
   "execution_count": 12,
   "id": "d413a0a5-03b3-41df-abcb-bc0931f3473f",
   "metadata": {},
   "outputs": [
    {
     "data": {
      "text/plain": [
       "Seq('AATTCCACAACCTTCCACCAAACTCTGCAAGATCCCAGAGTGAGAGGCCTGTAT...TGG')"
      ]
     },
     "execution_count": 12,
     "metadata": {},
     "output_type": "execute_result"
    }
   ],
   "source": [
    "seq_hbv.seq"
   ]
  },
  {
   "cell_type": "code",
   "execution_count": 18,
   "id": "fb133342-bf2f-4052-b580-1fc4aeb78c24",
   "metadata": {},
   "outputs": [
    {
     "data": {
      "text/plain": [
       "3182"
      ]
     },
     "execution_count": 18,
     "metadata": {},
     "output_type": "execute_result"
    }
   ],
   "source": [
    "len(seq_hbv.seq)"
   ]
  },
  {
   "cell_type": "code",
   "execution_count": 22,
   "id": "8b334d6d-a99f-432b-84c4-67210aa9efc3",
   "metadata": {},
   "outputs": [
    {
     "name": "stdout",
     "output_type": "stream",
     "text": [
      "ID: NC_003977.2\n",
      "Name: NC_003977\n",
      "Description: Hepatitis B virus (strain ayw) genome\n",
      "Number of features: 0\n",
      "/molecule_type=DNA\n",
      "Seq('AATTCCACAACCTTCCACCAAACTCTGCAAGATCCCAGAGTGAGAGGCCTGTAT...TGA')\n"
     ]
    }
   ],
   "source": [
    "print(seq_hbv[0:100])"
   ]
  },
  {
   "cell_type": "code",
   "execution_count": 14,
   "id": "6ebebaa1-9fd7-4944-b75b-55b7d413eef9",
   "metadata": {},
   "outputs": [
    {
     "data": {
      "text/plain": [
       "'Hepatitis B virus (strain ayw) genome'"
      ]
     },
     "execution_count": 14,
     "metadata": {},
     "output_type": "execute_result"
    }
   ],
   "source": [
    "seq_hbv.description"
   ]
  },
  {
   "cell_type": "code",
   "execution_count": 16,
   "id": "106ad6bc-6edc-4694-a28e-360ef8826a5b",
   "metadata": {},
   "outputs": [
    {
     "data": {
      "text/plain": [
       "{'molecule_type': 'DNA',\n",
       " 'topology': 'circular',\n",
       " 'data_file_division': 'VRL',\n",
       " 'date': '25-MAR-2021',\n",
       " 'accessions': ['NC_003977'],\n",
       " 'sequence_version': 2,\n",
       " 'keywords': ['RefSeq', 'antigen', 'core antigen', 'genome', 'signal peptide'],\n",
       " 'source': 'Hepatitis B virus',\n",
       " 'organism': 'Hepatitis B virus',\n",
       " 'taxonomy': ['Viruses',\n",
       "  'Riboviria',\n",
       "  'Pararnavirae',\n",
       "  'Artverviricota',\n",
       "  'Revtraviricetes',\n",
       "  'Blubervirales',\n",
       "  'Hepadnaviridae',\n",
       "  'Orthohepadnavirus'],\n",
       " 'references': [Reference(title='The topology of hepatitis B virus pregenomic RNA promotes its replication', ...),\n",
       "  Reference(title='Translation of the first upstream ORF in the hepatitis B virus pregenomic RNA modulates translation at the core and polymerase initiation codons', ...),\n",
       "  Reference(title='Structure and expression of the gene of the core antigen of human hepatitis B virus (HBV) in Escherichia coli cells', ...),\n",
       "  Reference(title='Nucleotide sequence of the hepatitis B virus genome (subtype ayw) cloned in E. coli', ...),\n",
       "  Reference(title='Direct Submission', ...)],\n",
       " 'comment': 'VALIDATED REFSEQ: This record has undergone validation or\\npreliminary review. The reference sequence is identical to V01460.\\nOn Oct 23, 2015 this sequence version replaced NC_003977.1.\\nCOMPLETENESS: full length.'}"
      ]
     },
     "execution_count": 16,
     "metadata": {},
     "output_type": "execute_result"
    }
   ],
   "source": [
    "seq_hbv.annotations"
   ]
  },
  {
   "cell_type": "code",
   "execution_count": 27,
   "id": "7f3097ff-41c4-49c7-b1c5-ccd552aa4781",
   "metadata": {},
   "outputs": [
    {
     "name": "stdout",
     "output_type": "stream",
     "text": [
      "source\n",
      "gene\n",
      "CDS\n",
      "gene\n",
      "CDS\n",
      "CDS\n",
      "CDS\n",
      "gene\n",
      "CDS\n",
      "misc_difference\n",
      "gene\n",
      "CDS\n"
     ]
    }
   ],
   "source": [
    "for feature in seq_hbv.features[0:12]:\n",
    "    print(feature.type)"
   ]
  },
  {
   "cell_type": "code",
   "execution_count": 30,
   "id": "51e46e91-afb2-41e5-8cd2-745fd1ed3928",
   "metadata": {},
   "outputs": [
    {
     "name": "stdout",
     "output_type": "stream",
     "text": [
      "type: gene\n",
      "location: join{[2308:3182](+), [0:1625](+)}\n",
      "qualifiers:\n",
      "    Key: db_xref, Value: ['GeneID:944565']\n",
      "    Key: gene, Value: ['P']\n",
      "    Key: locus_tag, Value: ['HBVgp1']\n",
      "\n"
     ]
    }
   ],
   "source": [
    "print(seq_hbv.features[1])"
   ]
  },
  {
   "cell_type": "code",
   "execution_count": 33,
   "id": "295068ea-ef15-4655-9d2e-cc358f76a70d",
   "metadata": {},
   "outputs": [
    {
     "data": {
      "text/plain": [
       "{'gene': ['P'],\n",
       " 'locus_tag': ['HBVgp1'],\n",
       " 'note': ['reverse transcriptase; DNA polymerase; P protein; P; HP; protein P; polymerase with reverse; transcriptase and RNAses H activit'],\n",
       " 'codon_start': ['1'],\n",
       " 'product': ['polymerase'],\n",
       " 'protein_id': ['YP_009173866.1'],\n",
       " 'db_xref': ['GeneID:944565'],\n",
       " 'translation': ['MPLSYQHFRRLLLLDDEAGPLEEELPRLADEGLNRRVAEDLNLGNLNVSIPWTHKVGNFTGLYSSTVPVFNPHWKTPSFPNIHLHQDIIKKCEQFVGPLTVNEKRRLQLIMPARFYPKVTKYLPLDKGIKPYYPEHLVNHYFQTRHYLHTLWKAGILYKRETTHSASFCGSPYSWEQDLQHGAESFHQQSSGILSRPPVGSSLQSKHRKSRLGLQSQQGHLARRQQGRSWSIRAGFHPTARRPFGVEPSGSGHTTNFASKSASCLHQSPVRKAAYPAVSTFEKHSSSGHAVEFHNLPPNSARSQSERPVFPCWWLQFRNSKPCSDYCLSLIVNLLEDWGPCAEHGEHHIRIPRTPSRVTGGVFLVDKNPHNTAESRLVVDFSQFSRGNYRVSWPKFAVPNLQSLTNLLSSNLSWLSLDVSAAFYHLPLHPAAMPHLLVGSSGLSRYVARLSSNSRILNNQHGTMPDLHDYCSRNLYVSLLLLYQTFGRKLHLYSHPIILGFRKIPMGVGLSPFLLAQFTSAICSVVRRAFPHCLAFSYMDDVVLGAKSVQHLESLFTAVTNFLLSLGIHLNPNKTKRWGYSLNFMGYVIGCYGSLPQEHIIQKIKECFRKLPINRPIDWKVCQRIVGLLGFAAPFTQCGYPALMPLYACIQSKQAFTFSPTYKAFLCKQYLNLYPVARQRPGLCQVFADATPTGWGLVMGHQRMRGTFSAPLPIHTAELLAACFARSRSGANIIGTDNSVVLSRKYTSFPWLLGCAANWILRGTSFVYVPSALNPADDPSRGRLGLSRPLLRLPFRPTTGRTSLYADSPSVPSHLPDRVHFASPLHVAWRPP']}"
      ]
     },
     "execution_count": 33,
     "metadata": {},
     "output_type": "execute_result"
    }
   ],
   "source": [
    "seq_hbv.features[2].qualifiers"
   ]
  },
  {
   "cell_type": "markdown",
   "id": "2995233d-b845-4d3f-b1d3-1cd77ed3b098",
   "metadata": {},
   "source": [
    "Obtener la secuencia en formato fasta (falta)"
   ]
  },
  {
   "cell_type": "code",
   "execution_count": 137,
   "id": "e79e1551-4719-43b8-83a5-333abb1b6b59",
   "metadata": {},
   "outputs": [
    {
     "data": {
      "text/plain": [
       "<bound method SeqRecord.translate of SeqRecord(seq=Seq('AATTCCACAACCTTCCACCAAACTCTGCAAGATCCCAGAGTGAGAGGCCTGTAT...TGG'), id='NC_003977.2', name='NC_003977', description='Hepatitis B virus (strain ayw) genome', dbxrefs=['BioProject:PRJNA485481'])>"
      ]
     },
     "execution_count": 137,
     "metadata": {},
     "output_type": "execute_result"
    }
   ],
   "source": [
    "seq_hbv.translate"
   ]
  },
  {
   "cell_type": "code",
   "execution_count": 139,
   "id": "fdb2d203-a45b-40f9-8a66-46b034d43156",
   "metadata": {},
   "outputs": [
    {
     "data": {
      "text/plain": [
       "'NC_003977'"
      ]
     },
     "execution_count": 139,
     "metadata": {},
     "output_type": "execute_result"
    }
   ],
   "source": [
    "seq_hbv.name"
   ]
  },
  {
   "cell_type": "code",
   "execution_count": 141,
   "id": "fd1d9531-a124-40e8-8f3b-0c0b3cc9b750",
   "metadata": {},
   "outputs": [
    {
     "data": {
      "text/plain": [
       "<bound method SeqRecord.reverse_complement of SeqRecord(seq=Seq('AATTCCACAACCTTCCACCAAACTCTGCAAGATCCCAGAGTGAGAGGCCTGTAT...TGG'), id='NC_003977.2', name='NC_003977', description='Hepatitis B virus (strain ayw) genome', dbxrefs=['BioProject:PRJNA485481'])>"
      ]
     },
     "execution_count": 141,
     "metadata": {},
     "output_type": "execute_result"
    }
   ],
   "source": [
    "seq_hbv.reverse_complement"
   ]
  },
  {
   "cell_type": "code",
   "execution_count": 143,
   "id": "35a00540-63cc-44f7-99f9-0100450e4f10",
   "metadata": {},
   "outputs": [
    {
     "data": {
      "text/plain": [
       "['BioProject:PRJNA485481']"
      ]
     },
     "execution_count": 143,
     "metadata": {},
     "output_type": "execute_result"
    }
   ],
   "source": [
    "seq_hbv.dbxrefs"
   ]
  },
  {
   "cell_type": "code",
   "execution_count": 155,
   "id": "c3ed71d2-39a4-43a8-991a-6759231fa24c",
   "metadata": {},
   "outputs": [
    {
     "data": {
      "text/plain": [
       "Seq('AATTCCACAACCTTCCACCAAACTCTGCAAGATCCCAGAGTGAGAGGCCTGTAT...TGG')"
      ]
     },
     "execution_count": 155,
     "metadata": {},
     "output_type": "execute_result"
    }
   ],
   "source": [
    "seq_hbv.seq"
   ]
  },
  {
   "cell_type": "code",
   "execution_count": 36,
   "id": "056a31a0-adf3-49f0-a5af-7ee4ba372d29",
   "metadata": {},
   "outputs": [],
   "source": [
    "from Bio import SeqIO\n",
    "from Bio.SeqRecord import SeqRecord"
   ]
  },
  {
   "cell_type": "code",
   "execution_count": null,
   "id": "921dc449-8ae0-455a-9561-d09df516d968",
   "metadata": {},
   "outputs": [],
   "source": []
  },
  {
   "cell_type": "markdown",
   "id": "e2587312-e76c-4b3f-942c-7e284e701d84",
   "metadata": {},
   "source": [
    "Recuperar información desde el NCBI"
   ]
  },
  {
   "cell_type": "code",
   "execution_count": 42,
   "id": "d88ca73a-d5bd-4976-8f05-407953e23279",
   "metadata": {},
   "outputs": [],
   "source": [
    "from Bio import Entrez\n",
    "Entrez.email = \"eisik.m@northeastern.edu\"\n",
    "handle = Entrez.einfo()\n",
    "bases_ncbi = Entrez.read(handle, validate = False)\n",
    "handle.close()"
   ]
  },
  {
   "cell_type": "markdown",
   "id": "16ba975f-d08b-4324-bcef-e1a244800411",
   "metadata": {},
   "source": [
    "Obtener formato fasta"
   ]
  },
  {
   "cell_type": "code",
   "execution_count": 86,
   "id": "64a625b3-6f57-4691-8423-076c731f210e",
   "metadata": {},
   "outputs": [],
   "source": [
    "from Bio.SeqRecord import SeqRecord"
   ]
  },
  {
   "cell_type": "code",
   "execution_count": 130,
   "id": "e590bc68-6ccb-4519-8cc9-0d41803a0df5",
   "metadata": {},
   "outputs": [],
   "source": [
    "from Bio import SeqIO\n",
    "\n",
    "with open(\"seq_hbv_tRNAs.fasta\") as handle:\n",
    "    for record in SeqIO.parse(handle, \"fasta\"):\n",
    "        print(record.id)\n",
    " \n",
    "  "
   ]
  }
 ],
 "metadata": {
  "kernelspec": {
   "display_name": "Python 3 (ipykernel)",
   "language": "python",
   "name": "python3"
  },
  "language_info": {
   "codemirror_mode": {
    "name": "ipython",
    "version": 3
   },
   "file_extension": ".py",
   "mimetype": "text/x-python",
   "name": "python",
   "nbconvert_exporter": "python",
   "pygments_lexer": "ipython3",
   "version": "3.12.3"
  },
  "panel-cell-order": [
   "037a9048-6c8e-4ac6-8deb-f7703f2bc693",
   "8275628c-c1f7-49f7-b24d-d180b49ecb7f",
   "76307b61-5c2b-452e-8416-700b5a07c98d",
   "9c7ea755-471a-4771-ade1-c6596d54adf1"
  ]
 },
 "nbformat": 4,
 "nbformat_minor": 5
}
