{
 "cells": [
  {
   "cell_type": "markdown",
   "id": "b1a9384f-68d3-4c44-923a-233b9fc6ecd0",
   "metadata": {},
   "source": [
    "We used the hepatitis B virus data set:\n",
    "https://www.ncbi.nlm.nih.gov/nuccore/NC_003977.2?report=genbank\n",
    "To work with this data, we have to import Biophyton:"
   ]
  },
  {
   "cell_type": "code",
   "execution_count": 5,
   "id": "a13139fa-1d0f-41c0-8480-53046f41de89",
   "metadata": {},
   "outputs": [],
   "source": [
    "import Bio\n",
    "del Bio"
   ]
  },
  {
   "cell_type": "code",
   "execution_count": 8,
   "id": "025cf72c-edd9-44c8-ac7d-8f436cbb1de9",
   "metadata": {},
   "outputs": [
    {
     "name": "stdout",
     "output_type": "stream",
     "text": [
      "NC_003977.2\n"
     ]
    }
   ],
   "source": [
    "from Bio import SeqIO\n",
    "seq_hbv = SeqIO.read(\"seq_hbv.gb\", \"genbank\")\n",
    "print(seq_hbv.id)"
   ]
  },
  {
   "cell_type": "markdown",
   "id": "e4034aa1-89d8-460c-8b84-d744edfe6c41",
   "metadata": {},
   "source": [
    "The id obtained is NC_003977.2."
   ]
  },
  {
   "cell_type": "code",
   "execution_count": 12,
   "id": "ef706feb-825e-464d-9e90-8a337a2ba67c",
   "metadata": {},
   "outputs": [
    {
     "data": {
      "text/plain": [
       "Seq('AATTCCACAACCTTCCACCAAACTCTGCAAGATCCCAGAGTGAGAGGCCTGTAT...TGG')"
      ]
     },
     "execution_count": 12,
     "metadata": {},
     "output_type": "execute_result"
    }
   ],
   "source": [
    "seq_hbv.seq"
   ]
  },
  {
   "cell_type": "code",
   "execution_count": 15,
   "id": "09b8d9bb-3316-4672-a7a8-7c868f598dac",
   "metadata": {},
   "outputs": [
    {
     "data": {
      "text/plain": [
       "3182"
      ]
     },
     "execution_count": 15,
     "metadata": {},
     "output_type": "execute_result"
    }
   ],
   "source": [
    "len(seq_hbv.seq)"
   ]
  },
  {
   "cell_type": "markdown",
   "id": "16d8cd35-2b18-4242-8f8c-1bbb4f3bdb89",
   "metadata": {},
   "source": [
    "The length of the sequence is 3182."
   ]
  },
  {
   "cell_type": "code",
   "execution_count": 19,
   "id": "fb4671a2-b6af-4ab1-8e2f-88536fc1ab95",
   "metadata": {},
   "outputs": [
    {
     "name": "stdout",
     "output_type": "stream",
     "text": [
      "ID: NC_003977.2\n",
      "Name: NC_003977\n",
      "Description: Hepatitis B virus (strain ayw) genome\n",
      "Number of features: 0\n",
      "/molecule_type=DNA\n",
      "Seq('AATTCCACAACCTTCCACCAAACTCTGCAAGATCCCAGAGTGAGAGGCCTGTAT...TGA')\n"
     ]
    }
   ],
   "source": [
    "print(seq_hbv[0:100])"
   ]
  },
  {
   "cell_type": "code",
   "execution_count": 22,
   "id": "558adf71-393d-444e-b604-73706d1f4e92",
   "metadata": {},
   "outputs": [
    {
     "data": {
      "text/plain": [
       "'Hepatitis B virus (strain ayw) genome'"
      ]
     },
     "execution_count": 22,
     "metadata": {},
     "output_type": "execute_result"
    }
   ],
   "source": [
    "seq_hbv.description"
   ]
  },
  {
   "cell_type": "code",
   "execution_count": 25,
   "id": "ca551297-dbbc-473c-a1b9-d75b68a87ca8",
   "metadata": {},
   "outputs": [
    {
     "data": {
      "text/plain": [
       "{'molecule_type': 'DNA',\n",
       " 'topology': 'circular',\n",
       " 'data_file_division': 'VRL',\n",
       " 'date': '25-MAR-2021',\n",
       " 'accessions': ['NC_003977'],\n",
       " 'sequence_version': 2,\n",
       " 'keywords': ['RefSeq', 'antigen', 'core antigen', 'genome', 'signal peptide'],\n",
       " 'source': 'Hepatitis B virus',\n",
       " 'organism': 'Hepatitis B virus',\n",
       " 'taxonomy': ['Viruses',\n",
       "  'Riboviria',\n",
       "  'Pararnavirae',\n",
       "  'Artverviricota',\n",
       "  'Revtraviricetes',\n",
       "  'Blubervirales',\n",
       "  'Hepadnaviridae',\n",
       "  'Orthohepadnavirus'],\n",
       " 'references': [Reference(title='The topology of hepatitis B virus pregenomic RNA promotes its replication', ...),\n",
       "  Reference(title='Translation of the first upstream ORF in the hepatitis B virus pregenomic RNA modulates translation at the core and polymerase initiation codons', ...),\n",
       "  Reference(title='Structure and expression of the gene of the core antigen of human hepatitis B virus (HBV) in Escherichia coli cells', ...),\n",
       "  Reference(title='Nucleotide sequence of the hepatitis B virus genome (subtype ayw) cloned in E. coli', ...),\n",
       "  Reference(title='Direct Submission', ...)],\n",
       " 'comment': 'VALIDATED REFSEQ: This record has undergone validation or\\npreliminary review. The reference sequence is identical to V01460.\\nOn Oct 23, 2015 this sequence version replaced NC_003977.1.\\nCOMPLETENESS: full length.'}"
      ]
     },
     "execution_count": 25,
     "metadata": {},
     "output_type": "execute_result"
    }
   ],
   "source": [
    "seq_hbv.annotations"
   ]
  },
  {
   "cell_type": "code",
   "execution_count": 33,
   "id": "834ebbe6-59cf-4215-a1f1-3c82a0b11788",
   "metadata": {},
   "outputs": [
    {
     "name": "stdout",
     "output_type": "stream",
     "text": [
      "source\n",
      "gene\n",
      "CDS\n",
      "gene\n",
      "CDS\n",
      "CDS\n",
      "CDS\n",
      "gene\n",
      "CDS\n",
      "misc_difference\n",
      "gene\n",
      "CDS\n"
     ]
    }
   ],
   "source": [
    "for feature in seq_hbv.features[0:12]:\n",
    "      print(feature.type) "
   ]
  },
  {
   "cell_type": "markdown",
   "id": "1de887a5-2604-432f-aa61-4a1f57f12107",
   "metadata": {},
   "source": [
    "In this case, we iterate through the components in the seq_hbv.features list to determine the type of each component."
   ]
  },
  {
   "cell_type": "code",
   "execution_count": 36,
   "id": "55368839-6c95-47ea-a88a-233eb0f6fadc",
   "metadata": {},
   "outputs": [
    {
     "name": "stdout",
     "output_type": "stream",
     "text": [
      "type: gene\n",
      "location: join{[2308:3182](+), [0:1625](+)}\n",
      "qualifiers:\n",
      "    Key: db_xref, Value: ['GeneID:944565']\n",
      "    Key: gene, Value: ['P']\n",
      "    Key: locus_tag, Value: ['HBVgp1']\n",
      "\n"
     ]
    }
   ],
   "source": [
    "print(seq_hbv.features[1])"
   ]
  },
  {
   "cell_type": "code",
   "execution_count": 39,
   "id": "5059415b-9f23-431d-93d0-c51279e446cd",
   "metadata": {},
   "outputs": [
    {
     "data": {
      "text/plain": [
       "{'gene': ['P'],\n",
       " 'locus_tag': ['HBVgp1'],\n",
       " 'note': ['reverse transcriptase; DNA polymerase; P protein; P; HP; protein P; polymerase with reverse; transcriptase and RNAses H activit'],\n",
       " 'codon_start': ['1'],\n",
       " 'product': ['polymerase'],\n",
       " 'protein_id': ['YP_009173866.1'],\n",
       " 'db_xref': ['GeneID:944565'],\n",
       " 'translation': ['MPLSYQHFRRLLLLDDEAGPLEEELPRLADEGLNRRVAEDLNLGNLNVSIPWTHKVGNFTGLYSSTVPVFNPHWKTPSFPNIHLHQDIIKKCEQFVGPLTVNEKRRLQLIMPARFYPKVTKYLPLDKGIKPYYPEHLVNHYFQTRHYLHTLWKAGILYKRETTHSASFCGSPYSWEQDLQHGAESFHQQSSGILSRPPVGSSLQSKHRKSRLGLQSQQGHLARRQQGRSWSIRAGFHPTARRPFGVEPSGSGHTTNFASKSASCLHQSPVRKAAYPAVSTFEKHSSSGHAVEFHNLPPNSARSQSERPVFPCWWLQFRNSKPCSDYCLSLIVNLLEDWGPCAEHGEHHIRIPRTPSRVTGGVFLVDKNPHNTAESRLVVDFSQFSRGNYRVSWPKFAVPNLQSLTNLLSSNLSWLSLDVSAAFYHLPLHPAAMPHLLVGSSGLSRYVARLSSNSRILNNQHGTMPDLHDYCSRNLYVSLLLLYQTFGRKLHLYSHPIILGFRKIPMGVGLSPFLLAQFTSAICSVVRRAFPHCLAFSYMDDVVLGAKSVQHLESLFTAVTNFLLSLGIHLNPNKTKRWGYSLNFMGYVIGCYGSLPQEHIIQKIKECFRKLPINRPIDWKVCQRIVGLLGFAAPFTQCGYPALMPLYACIQSKQAFTFSPTYKAFLCKQYLNLYPVARQRPGLCQVFADATPTGWGLVMGHQRMRGTFSAPLPIHTAELLAACFARSRSGANIIGTDNSVVLSRKYTSFPWLLGCAANWILRGTSFVYVPSALNPADDPSRGRLGLSRPLLRLPFRPTTGRTSLYADSPSVPSHLPDRVHFASPLHVAWRPP']}"
      ]
     },
     "execution_count": 39,
     "metadata": {},
     "output_type": "execute_result"
    }
   ],
   "source": [
    "seq_hbv.features[2].qualifiers"
   ]
  },
  {
   "cell_type": "code",
   "execution_count": 42,
   "id": "cfec805c-0c28-41d7-837e-8c6b88be12a0",
   "metadata": {},
   "outputs": [
    {
     "data": {
      "text/plain": [
       "<bound method SeqRecord.translate of SeqRecord(seq=Seq('AATTCCACAACCTTCCACCAAACTCTGCAAGATCCCAGAGTGAGAGGCCTGTAT...TGG'), id='NC_003977.2', name='NC_003977', description='Hepatitis B virus (strain ayw) genome', dbxrefs=['BioProject:PRJNA485481'])>"
      ]
     },
     "execution_count": 42,
     "metadata": {},
     "output_type": "execute_result"
    }
   ],
   "source": [
    "seq_hbv.translate"
   ]
  },
  {
   "cell_type": "code",
   "execution_count": 45,
   "id": "fd831dfa-cf23-462d-be26-81e960abb867",
   "metadata": {},
   "outputs": [
    {
     "data": {
      "text/plain": [
       "'NC_003977'"
      ]
     },
     "execution_count": 45,
     "metadata": {},
     "output_type": "execute_result"
    }
   ],
   "source": [
    "seq_hbv.name"
   ]
  },
  {
   "cell_type": "code",
   "execution_count": 48,
   "id": "fd38c992-fccf-4c9f-82fd-73fb1611b2fe",
   "metadata": {},
   "outputs": [
    {
     "data": {
      "text/plain": [
       "<bound method SeqRecord.reverse_complement of SeqRecord(seq=Seq('AATTCCACAACCTTCCACCAAACTCTGCAAGATCCCAGAGTGAGAGGCCTGTAT...TGG'), id='NC_003977.2', name='NC_003977', description='Hepatitis B virus (strain ayw) genome', dbxrefs=['BioProject:PRJNA485481'])>"
      ]
     },
     "execution_count": 48,
     "metadata": {},
     "output_type": "execute_result"
    }
   ],
   "source": [
    "seq_hbv.reverse_complement"
   ]
  },
  {
   "cell_type": "code",
   "execution_count": null,
   "id": "632722e6-4454-4d23-8aee-e7abb1a866c4",
   "metadata": {},
   "outputs": [],
   "source": []
  }
 ],
 "metadata": {
  "kernelspec": {
   "display_name": "Python 3 (ipykernel)",
   "language": "python",
   "name": "python3"
  },
  "language_info": {
   "codemirror_mode": {
    "name": "ipython",
    "version": 3
   },
   "file_extension": ".py",
   "mimetype": "text/x-python",
   "name": "python",
   "nbconvert_exporter": "python",
   "pygments_lexer": "ipython3",
   "version": "3.12.3"
  }
 },
 "nbformat": 4,
 "nbformat_minor": 5
}
